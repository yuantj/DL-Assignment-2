{
 "cells": [
  {
   "cell_type": "markdown",
   "id": "6b1f5953",
   "metadata": {},
   "source": [
    "# Assignment 2\n",
    "\n",
    "**Author:** Tingjun Yuan"
   ]
  },
  {
   "cell_type": "markdown",
   "id": "c74d1099",
   "metadata": {},
   "source": [
    "## Preparation\n",
    "\n",
    "Import necessary libraries:"
   ]
  }
 ],
 "metadata": {
  "language_info": {
   "name": "python"
  }
 },
 "nbformat": 4,
 "nbformat_minor": 5
}
